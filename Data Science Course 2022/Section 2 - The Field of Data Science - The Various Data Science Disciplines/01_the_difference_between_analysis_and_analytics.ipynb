{
 "cells": [
  {
   "cell_type": "markdown",
   "metadata": {},
   "source": [
    "A lot of people believe analysis and analytics are the same thing. Are they?\n",
    "- Technically there is a distince difference between the two\n",
    "- The reason one gets used over the other is the lack of understabding of what each means\n",
    "\n",
    "## Analysis\n",
    "To try and understand analysis, imagine we have a very large dataset. Instead of tackling the whole dataset, it is broken down into smaller datasets, each of which is studied individaully, to understand how they relate to other parts. **This is, essentially, analysis**\n",
    "\n",
    "**Analysis** is carried out on things that have happened in the past -- why did the film end the way it did? Why did last months sales increase?"
   ]
  }
 ],
 "metadata": {
  "interpreter": {
   "hash": "b3ba2566441a7c06988d0923437866b63cedc61552a5af99d1f4fb67d367b25f"
  },
  "kernelspec": {
   "display_name": "Python 3.8.3 ('base')",
   "language": "python",
   "name": "python3"
  },
  "language_info": {
   "name": "python",
   "version": "3.8.3"
  },
  "orig_nbformat": 4
 },
 "nbformat": 4,
 "nbformat_minor": 2
}
