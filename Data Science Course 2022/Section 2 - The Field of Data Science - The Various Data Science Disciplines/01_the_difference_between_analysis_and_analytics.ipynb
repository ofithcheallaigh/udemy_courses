{
 "cells": [
  {
   "cell_type": "markdown",
   "metadata": {},
   "source": [
    "A lot of people believe analysis and analytics are the same thing. Are they?\n",
    "- Technically there is a distince difference between the two\n",
    "- The reason one gets used over the other is the lack of understabding of what each means\n",
    "\n",
    "## Analysis\n",
    "To try and understand analysis, imagine we have a very large dataset. Instead of tackling the whole dataset, it is broken down into smaller datasets, each of which is studied individaully, to understand how they relate to other parts. **This is, essentially, analysis**\n",
    "\n",
    "**Analysis** is carried out on things that have happened in the past -- How did the film end the way it did? Why did last months sales increase?\n",
    "\n",
    "## Analytics\n",
    "Analytics generally refers to the future. Instead of trying to explain past events, it tries to explore potential future events. Analytics is essentially the applciation of logical and computational reasoning to the component parts obtained in an analysis.    \n",
    "\n",
    "In analytics, we are looking for patterns, and determining what we can do with them in the future.    \n",
    "\n",
    "Analytics can be broken into two parts    \n",
    "- Qualitative: using intuition and experience in conjunction with analysis to plan step\n",
    "- Quantative: applying formulas and algorithms gathered from analysis \n",
    "\n",
    "\n",
    "From this, we can see that analysis and analytics are not the same thing. We can also see that data analysis and data analytics are not the same thing. Nor, is business analysis and business analytics.    "
   ]
  }
 ],
 "metadata": {
  "interpreter": {
   "hash": "b3ba2566441a7c06988d0923437866b63cedc61552a5af99d1f4fb67d367b25f"
  },
  "kernelspec": {
   "display_name": "Python 3.8.3 ('base')",
   "language": "python",
   "name": "python3"
  },
  "language_info": {
   "name": "python",
   "version": "3.8.3"
  },
  "orig_nbformat": 4
 },
 "nbformat": 4,
 "nbformat_minor": 2
}
